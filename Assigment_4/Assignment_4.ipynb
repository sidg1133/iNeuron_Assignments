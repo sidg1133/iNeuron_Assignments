{
 "cells": [
  {
   "cell_type": "markdown",
   "metadata": {},
   "source": [
    "# Assignment 4 "
   ]
  },
  {
   "cell_type": "markdown",
   "metadata": {},
   "source": [
    "## Q1 - "
   ]
  },
  {
   "cell_type": "markdown",
   "metadata": {},
   "source": [
    "#### 1.1\n",
    "Write a Python Program(with class concepts) to find the area of the triangle using the below \n",
    "formula. \n",
    "\n",
    " \n",
    "\n",
    "area = (s*(s-a)*(s-b)*(s-c)) ** 0.5 \n",
    "\n",
    " \n",
    "\n",
    "Function to take the length of the sides of triangle from user should be defined in the parent \n",
    "class and function to calculate the area should be defined in subclass."
   ]
  },
  {
   "cell_type": "code",
   "execution_count": 1,
   "metadata": {},
   "outputs": [],
   "source": [
    "class Polygon:\n",
    "    def __init__(self,num_of_sides = 3):\n",
    "        self.num_of_sides = num_of_sides\n",
    "    def define_sides(self):\n",
    "        print('Input dimensions of sides')\n",
    "        self.sides = [float(input()) for _ in range(self.num_of_sides)]\n",
    "        \n",
    "        \n",
    "class Area(Polygon):\n",
    "    def __init__(self,*args):\n",
    "        Polygon.__init__(self,*args)\n",
    "    def area_of_triangle(self):\n",
    "        a,b,c = self.sides\n",
    "        s = (a + b + c) / 2\n",
    "        area = (s*(s-a)*(s-b)*(s-c)) ** 0.5\n",
    "        print(\"Area of triangle = \",area)\n",
    "        "
   ]
  },
  {
   "cell_type": "code",
   "execution_count": 2,
   "metadata": {},
   "outputs": [
    {
     "name": "stdout",
     "output_type": "stream",
     "text": [
      "Input dimensions of sides\n",
      "8\n",
      "9\n",
      "10.5\n",
      "Area of triangle =  34.93604648139225\n"
     ]
    }
   ],
   "source": [
    "area = Area()\n",
    "area.define_sides()\n",
    "area.area_of_triangle()"
   ]
  },
  {
   "cell_type": "code",
   "execution_count": null,
   "metadata": {},
   "outputs": [],
   "source": []
  },
  {
   "cell_type": "markdown",
   "metadata": {},
   "source": [
    "#### 1.2 \n",
    "Write a function filter_long_words() that takes a list of words and an integer n and returns the list of words that are longer than n. "
   ]
  },
  {
   "cell_type": "code",
   "execution_count": 3,
   "metadata": {},
   "outputs": [],
   "source": [
    "def filter_long_words(sentence,length):\n",
    "    short_word_list = []\n",
    "    for words in sentence:\n",
    "        if(len(words)<=length):\n",
    "            short_word_list.append(words)\n",
    "    return short_word_list\n",
    "    "
   ]
  },
  {
   "cell_type": "code",
   "execution_count": 4,
   "metadata": {},
   "outputs": [
    {
     "name": "stdout",
     "output_type": "stream",
     "text": [
      "Filter Function called --> \n",
      " ['the', 'had', 'a', 'tiny', 'the', 'cat', 'saw', 'the', 'the', 'ran', 'away', 'from', 'the', 'the', 'cat', 'ate', 'the', 'the', 'end', 'of', 'the']\n"
     ]
    }
   ],
   "source": [
    "docs=['the', 'house', 'had',  'a', 'tiny', 'little', 'mouse', 'the', 'cat',\n",
    "      'saw', 'the', 'mouse', 'the', 'mouse', 'ran', 'away', 'from', 'the',\n",
    "      'house', 'the', 'cat', 'finally', 'ate', 'the', 'mouse', 'the', 'end',\n",
    "      'of', 'the', 'mouse', 'story']\n",
    "print(\"Filter Function called --> \\n\", filter_long_words(docs,4))"
   ]
  },
  {
   "cell_type": "code",
   "execution_count": null,
   "metadata": {},
   "outputs": [],
   "source": []
  },
  {
   "cell_type": "markdown",
   "metadata": {},
   "source": [
    "## Q2"
   ]
  },
  {
   "cell_type": "markdown",
   "metadata": {},
   "source": [
    "#### 2.1 \n",
    "Write a Python program using function concept that maps list of words into a list of integers \n",
    "representing the lengths of the corresponding words. \n",
    "\n",
    " \n",
    "\n",
    "Hint: If a list [ ab,cde,erty] is passed on to the python function output should come as [2,3,4] \n",
    "\n",
    " \n",
    "\n",
    "Here 2,3 and 4 are the lengths of the words in the list. \n",
    "\n",
    " \n",
    "\n",
    " "
   ]
  },
  {
   "cell_type": "code",
   "execution_count": 5,
   "metadata": {},
   "outputs": [
    {
     "name": "stdout",
     "output_type": "stream",
     "text": [
      "Mapping done ---> \n",
      " [3, 5, 3, 1, 4, 6, 5, 3, 3, 3, 3, 5, 3, 5, 3, 4, 4, 3, 5, 3, 3, 7, 3, 3, 5, 3, 3, 2, 3, 5, 5]\n"
     ]
    }
   ],
   "source": [
    "# By defining lambda function\n",
    "\n",
    "docs=['the', 'house', 'had',  'a', 'tiny', 'little', 'mouse', 'the', 'cat',\n",
    "      'saw', 'the', 'mouse', 'the', 'mouse', 'ran', 'away', 'from', 'the',\n",
    "      'house', 'the', 'cat', 'finally', 'ate', 'the', 'mouse', 'the', 'end',\n",
    "      'of', 'the', 'mouse', 'story']\n",
    "\n",
    "docs = list(map(lambda word:len(word) , docs))\n",
    "print(\"Mapping done ---> \\n\",docs)"
   ]
  },
  {
   "cell_type": "markdown",
   "metadata": {},
   "source": [
    "                                    OR"
   ]
  },
  {
   "cell_type": "code",
   "execution_count": 6,
   "metadata": {},
   "outputs": [
    {
     "name": "stdout",
     "output_type": "stream",
     "text": [
      "Mapping done ---> \n",
      " [3, 5, 3, 1, 4, 6, 5, 3, 3, 3, 3, 5, 3, 5, 3, 4, 4, 3, 5, 3, 3, 7, 3, 3, 5, 3, 3, 2, 3, 5, 5]\n"
     ]
    }
   ],
   "source": [
    "### can also be done by defining function\n",
    "\n",
    "def string_to_length(word):\n",
    "    return (len(word))\n",
    "\n",
    "\n",
    "\n",
    "docs=['the', 'house', 'had',  'a', 'tiny', 'little', 'mouse', 'the', 'cat',\n",
    "      'saw', 'the', 'mouse', 'the', 'mouse', 'ran', 'away', 'from', 'the',\n",
    "      'house', 'the', 'cat', 'finally', 'ate', 'the', 'mouse', 'the', 'end',\n",
    "      'of', 'the', 'mouse', 'story']\n",
    "docs = list(map(string_to_length , docs))\n",
    "print(\"Mapping done ---> \\n\",docs)"
   ]
  },
  {
   "cell_type": "markdown",
   "metadata": {},
   "source": [
    "#### 2.2 \n",
    "Write a Python function which takes a character (i.e. a string of length 1) and returns True if \n",
    "it is a vowel, False otherwise. "
   ]
  },
  {
   "cell_type": "code",
   "execution_count": 7,
   "metadata": {},
   "outputs": [],
   "source": [
    "def check_vowel1(char):\n",
    "    vowels = ['a','e','i','o','u']\n",
    "    for ch in vowels:\n",
    "        if(ch==char):\n",
    "            return True\n",
    "    return False\n"
   ]
  },
  {
   "cell_type": "markdown",
   "metadata": {},
   "source": [
    "                               OR"
   ]
  },
  {
   "cell_type": "code",
   "execution_count": 8,
   "metadata": {},
   "outputs": [],
   "source": [
    "def check_vowel2(char):\n",
    "    vowels = ['a','e','i','o','u']\n",
    "    if(char in vowels):\n",
    "        return True\n",
    "    return False"
   ]
  },
  {
   "cell_type": "code",
   "execution_count": 9,
   "metadata": {},
   "outputs": [
    {
     "name": "stdout",
     "output_type": "stream",
     "text": [
      "Checking vowel with 1st function --->  True\n",
      "Checking vowel with 2nd function --->  True\n",
      "Checking vowel with 1st function --->  True\n",
      "Checking vowel with 2nd function --->  True\n",
      "Checking vowel with 1st function --->  False\n",
      "Checking vowel with 2nd function --->  False\n"
     ]
    }
   ],
   "source": [
    "print(\"Checking vowel with 1st function ---> \",check_vowel1('a'))\n",
    "print(\"Checking vowel with 2nd function ---> \",check_vowel2('a'))\n",
    "print(\"Checking vowel with 1st function ---> \",check_vowel1('u'))\n",
    "print(\"Checking vowel with 2nd function ---> \",check_vowel2('u'))\n",
    "print(\"Checking vowel with 1st function ---> \",check_vowel1('v'))\n",
    "print(\"Checking vowel with 2nd function ---> \",check_vowel2('v'))"
   ]
  },
  {
   "cell_type": "code",
   "execution_count": null,
   "metadata": {},
   "outputs": [],
   "source": []
  },
  {
   "cell_type": "code",
   "execution_count": null,
   "metadata": {},
   "outputs": [],
   "source": []
  }
 ],
 "metadata": {
  "kernelspec": {
   "display_name": "gpuruns",
   "language": "python",
   "name": "gpuruns"
  },
  "language_info": {
   "codemirror_mode": {
    "name": "ipython",
    "version": 3
   },
   "file_extension": ".py",
   "mimetype": "text/x-python",
   "name": "python",
   "nbconvert_exporter": "python",
   "pygments_lexer": "ipython3",
   "version": "3.7.9"
  }
 },
 "nbformat": 4,
 "nbformat_minor": 4
}
