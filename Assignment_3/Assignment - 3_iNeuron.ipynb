{
 "cells": [
  {
   "cell_type": "markdown",
   "metadata": {},
   "source": [
    "## 1.1 Write a Python Program to implement your own myreduce() function which works exactly like Python's built-in function reduce()"
   ]
  },
  {
   "cell_type": "code",
   "execution_count": 1,
   "metadata": {},
   "outputs": [],
   "source": [
    "from functools import reduce\n",
    "import random\n",
    "lst = [random.randint(1,100) for i in range(10)]\n",
    "print(\"List containing random integers are---> \\t\",lst)"
   ]
  },
  {
   "cell_type": "code",
   "execution_count": 2,
   "metadata": {},
   "outputs": [],
   "source": [
    "def myreduce(myfunc,mylist):\n",
    "    res = mylist[0]\n",
    "    for i in range(1,len(mylist)):\n",
    "        res = myfunc(res,mylist[i])\n",
    "    return res"
   ]
  },
  {
   "cell_type": "code",
   "execution_count": 3,
   "metadata": {},
   "outputs": [
    {
     "name": "stdout",
     "output_type": "stream",
     "text": [
      "Result of implemented myfunc =  400\n"
     ]
    }
   ],
   "source": [
    "# Checking result of my function\n",
    "ans = myreduce(lambda x,y:x+y,lst)\n",
    "print(\"Result of implemented myfunc = \",ans )"
   ]
  },
  {
   "cell_type": "code",
   "execution_count": 4,
   "metadata": {},
   "outputs": [
    {
     "name": "stdout",
     "output_type": "stream",
     "text": [
      "Result of in-built reduce function =  400\n"
     ]
    }
   ],
   "source": [
    "# Checking result of in-built function\n",
    "print(\"Result of in-built reduce function = \",reduce(lambda x,y:x+y,lst))"
   ]
  },
  {
   "cell_type": "code",
   "execution_count": 5,
   "metadata": {},
   "outputs": [
    {
     "name": "stdout",
     "output_type": "stream",
     "text": [
      "Result of implemented myfunc =  32154523914240\n",
      "Result of in-built reduce function =  32154523914240\n"
     ]
    }
   ],
   "source": [
    "# Checking result of my function\n",
    "ans = myreduce(lambda x,y:x*y,lst)\n",
    "print(\"Result of implemented myfunc = \",ans )\n",
    "# Checking result of in-built function\n",
    "print(\"Result of in-built reduce function = \",reduce(lambda x,y:x*y,lst))"
   ]
  },
  {
   "cell_type": "code",
   "execution_count": 6,
   "metadata": {},
   "outputs": [
    {
     "name": "stdout",
     "output_type": "stream",
     "text": [
      "Result of implemented myfunc =  1.5238913233698908e-12\n",
      "Result of in-built reduce function =  1.5238913233698908e-12\n"
     ]
    }
   ],
   "source": [
    "# Checking result of my function\n",
    "ans = myreduce(lambda x,y:x/y,lst)\n",
    "print(\"Result of implemented myfunc = \",ans )\n",
    "# Checking result of in-built function\n",
    "print(\"Result of in-built reduce function = \",reduce(lambda x,y:x/y,lst))"
   ]
  },
  {
   "cell_type": "code",
   "execution_count": 7,
   "metadata": {},
   "outputs": [
    {
     "name": "stdout",
     "output_type": "stream",
     "text": [
      "Result of implemented myfunc =  0\n",
      "Result of in-built reduce function =  0\n"
     ]
    }
   ],
   "source": [
    "# Checking result of my function\n",
    "ans = myreduce(lambda x,y:x//y,lst)\n",
    "print(\"Result of implemented myfunc = \",ans )\n",
    "# Checking result of in-built function\n",
    "print(\"Result of in-built reduce function = \",reduce(lambda x,y:x//y,lst))"
   ]
  },
  {
   "cell_type": "code",
   "execution_count": 8,
   "metadata": {},
   "outputs": [
    {
     "name": "stdout",
     "output_type": "stream",
     "text": [
      "Result of implemented myfunc =  100\n",
      "Result of in-built reduce function =  100\n"
     ]
    }
   ],
   "source": [
    "# Checking result of my function\n",
    "ans = myreduce(lambda x,y:x^y,lst)\n",
    "print(\"Result of implemented myfunc = \",ans )\n",
    "# Checking result of in-built function\n",
    "print(\"Result of in-built reduce function = \",reduce(lambda x,y:x^y,lst))"
   ]
  },
  {
   "cell_type": "code",
   "execution_count": null,
   "metadata": {},
   "outputs": [],
   "source": []
  },
  {
   "cell_type": "code",
   "execution_count": null,
   "metadata": {},
   "outputs": [],
   "source": []
  },
  {
   "cell_type": "markdown",
   "metadata": {},
   "source": [
    "## 1.2 Write a Python program to implement your own myfilter() function which works exactly like Python's built-in function filter()"
   ]
  },
  {
   "cell_type": "code",
   "execution_count": 9,
   "metadata": {},
   "outputs": [],
   "source": [
    "def myfilter(myfunc, mylist):\n",
    "    #myfunc has to return boolean value\n",
    "    res = []\n",
    "    for elem in mylist:\n",
    "        if(myfunc(elem)):\n",
    "            res.append(elem)\n",
    "    return res"
   ]
  },
  {
   "cell_type": "code",
   "execution_count": 10,
   "metadata": {},
   "outputs": [
    {
     "name": "stdout",
     "output_type": "stream",
     "text": [
      "List elements are  =  [8, 35, 66, 43, 73, 80, 66, 92, 35, 38]\n"
     ]
    }
   ],
   "source": [
    "# Printing list elements\n",
    "lst =[random.randint(1,100) for i in range(10)]\n",
    "print(\"List elements are  = \",lst)"
   ]
  },
  {
   "cell_type": "code",
   "execution_count": 11,
   "metadata": {},
   "outputs": [
    {
     "name": "stdout",
     "output_type": "stream",
     "text": [
      "Condition check is of even numbers\n",
      "\n",
      "Result of implemented myfilter =  [8, 66, 80, 66, 92, 38]\n",
      "Result of in-built filter function =  [8, 66, 80, 66, 92, 38]\n"
     ]
    }
   ],
   "source": [
    "# Checking result of myfilter() function\n",
    "print(\"Condition check is of even numbers\\n\")\n",
    "ans = myfilter(lambda x:1 if x%2==0 else 0,lst)\n",
    "print(\"Result of implemented myfilter = \",ans )\n",
    "# Checking result of in-built filter function\n",
    "print(\"Result of in-built filter function = \",list(filter(lambda x:1 if x%2==0 else 0,lst)))"
   ]
  },
  {
   "cell_type": "code",
   "execution_count": 12,
   "metadata": {},
   "outputs": [
    {
     "name": "stdout",
     "output_type": "stream",
     "text": [
      "Condition check is of multiple of 5 numbers\n",
      "\n",
      "Result of implemented myfilter =  [35, 80, 35]\n",
      "Result of in-built filter function =  [35, 80, 35]\n"
     ]
    }
   ],
   "source": [
    "# Checking result of myfilter() function\n",
    "print(\"Condition check is of multiple of 5 numbers\\n\")\n",
    "ans = myfilter(lambda x:1 if x%5==0 else 0,lst)\n",
    "print(\"Result of implemented myfilter = \",ans )\n",
    "# Checking result of in-built filter function\n",
    "print(\"Result of in-built filter function = \",list(filter(lambda x:1 if x%5==0 else 0,lst)))"
   ]
  },
  {
   "cell_type": "code",
   "execution_count": 13,
   "metadata": {},
   "outputs": [
    {
     "name": "stdout",
     "output_type": "stream",
     "text": [
      "Iterable elements are  =  iNeuron is offering best course content\n"
     ]
    }
   ],
   "source": [
    "lst = \"iNeuron is offering best course content\"\n",
    "print(\"Iterable elements are  = \",lst)"
   ]
  },
  {
   "cell_type": "code",
   "execution_count": 14,
   "metadata": {},
   "outputs": [
    {
     "name": "stdout",
     "output_type": "stream",
     "text": [
      "Filetring all vowels in the String \n",
      "\n",
      "Result of implemented myfilter =  ['N', 'r', 'n', ' ', 's', ' ', 'f', 'f', 'r', 'n', 'g', ' ', 'b', 's', 't', ' ', 'c', 'r', 's', ' ', 'c', 'n', 't', 'n', 't']\n",
      "Result of in-built filter function =  ['N', 'r', 'n', ' ', 's', ' ', 'f', 'f', 'r', 'n', 'g', ' ', 'b', 's', 't', ' ', 'c', 'r', 's', ' ', 'c', 'n', 't', 'n', 't']\n"
     ]
    }
   ],
   "source": [
    "# Checking result of myfilter() function\n",
    "print(\"Filetring all vowels in the String \\n\")\n",
    "ans = myfilter(lambda x:0 if x in ['a','e','i','o','u'] else 1,lst)\n",
    "print(\"Result of implemented myfilter = \",ans )\n",
    "# Checking result of in-built filter function\n",
    "print(\"Result of in-built filter function = \",list(filter(lambda x:0 if x in ['a','e','i','o','u'] else 1,lst)))"
   ]
  },
  {
   "cell_type": "code",
   "execution_count": null,
   "metadata": {},
   "outputs": [],
   "source": []
  },
  {
   "cell_type": "markdown",
   "metadata": {},
   "source": [
    "## 2. Implement List comprehensions to produce the following lists."
   ]
  },
  {
   "cell_type": "markdown",
   "metadata": {},
   "source": [
    "#### ['x', 'xx', 'xxx', 'xxxx', 'y', 'yy', 'yyy', 'yyyy', 'z', 'zz', 'zzz', 'zzzz']"
   ]
  },
  {
   "cell_type": "code",
   "execution_count": 15,
   "metadata": {},
   "outputs": [
    {
     "name": "stdout",
     "output_type": "stream",
     "text": [
      "['x', 'xx', 'xxx', 'xxxx', 'y', 'yy', 'yyy', 'yyyy', 'z', 'zz', 'zzz', 'zzzz']\n"
     ]
    }
   ],
   "source": [
    "print([y*x for x in ['x','y','z'] for y in range(1,5)])"
   ]
  },
  {
   "cell_type": "code",
   "execution_count": 16,
   "metadata": {},
   "outputs": [
    {
     "name": "stdout",
     "output_type": "stream",
     "text": [
      "['x', 'xx', 'xxx', 'xxxx', 'y', 'yy', 'yyy', 'yyyy', 'z', 'zz', 'zzz', 'zzzz']\n"
     ]
    }
   ],
   "source": [
    "#Other way - \n",
    "print(['x'*i for i in range(1,5)]+['y'*i for i in range(1,5)]+['z'*i for i in range(1,5)])"
   ]
  },
  {
   "cell_type": "markdown",
   "metadata": {},
   "source": [
    "#### ['x', 'y', 'z', 'xx', 'yy', 'zz', 'xxx', 'yyy', 'zzz', 'xxxx', 'yyyy', 'zzzz']"
   ]
  },
  {
   "cell_type": "code",
   "execution_count": 17,
   "metadata": {},
   "outputs": [
    {
     "name": "stdout",
     "output_type": "stream",
     "text": [
      "['x', 'y', 'z', 'xx', 'yy', 'zz', 'xxx', 'yyy', 'zzz', 'xxxx', 'yyyy', 'zzzz']\n"
     ]
    }
   ],
   "source": [
    "print([y for x in [['x','y','z',i+1] for i in range(4)] for y in [x[0]*x[3],x[1]*x[3],x[2]*x[3]]])"
   ]
  },
  {
   "cell_type": "code",
   "execution_count": null,
   "metadata": {},
   "outputs": [],
   "source": []
  },
  {
   "cell_type": "markdown",
   "metadata": {},
   "source": [
    "### [[2], [3], [4], [3], [4], [5], [4], [5], [6]] "
   ]
  },
  {
   "cell_type": "code",
   "execution_count": 18,
   "metadata": {},
   "outputs": [
    {
     "name": "stdout",
     "output_type": "stream",
     "text": [
      "[[2], [3], [4], [3], [4], [5], [4], [5], [6]]\n"
     ]
    }
   ],
   "source": [
    "print([[y] for x in [[i,i+1,i+2] for i in range(2,5)] for y in x])"
   ]
  },
  {
   "cell_type": "code",
   "execution_count": null,
   "metadata": {},
   "outputs": [],
   "source": []
  },
  {
   "cell_type": "markdown",
   "metadata": {},
   "source": [
    "### [[2, 3, 4, 5], [3, 4, 5, 6],[4, 5, 6, 7], [5, 6, 7, 8]]"
   ]
  },
  {
   "cell_type": "code",
   "execution_count": 19,
   "metadata": {},
   "outputs": [
    {
     "name": "stdout",
     "output_type": "stream",
     "text": [
      "[[2, 3, 4, 5], [3, 4, 5, 6], [4, 5, 6, 7], [5, 6, 7, 8]]\n"
     ]
    }
   ],
   "source": [
    "print([x for x in [[i,i+1,i+2,i+3] for i in range(2,6)] ])"
   ]
  },
  {
   "cell_type": "code",
   "execution_count": null,
   "metadata": {},
   "outputs": [],
   "source": []
  },
  {
   "cell_type": "markdown",
   "metadata": {},
   "source": [
    "### [(1, 1), (2, 1), (3, 1), (1, 2), (2, 2), (3, 2), (1, 3), (2, 3), (3, 3)]"
   ]
  },
  {
   "cell_type": "code",
   "execution_count": 20,
   "metadata": {},
   "outputs": [
    {
     "name": "stdout",
     "output_type": "stream",
     "text": [
      "[(1, 1), (2, 1), (3, 1), (1, 2), (2, 2), (3, 2), (1, 3), (2, 3), (3, 3)]\n"
     ]
    }
   ],
   "source": [
    "print([(y,x) for x in range(1,4) for y in range(1,4)])"
   ]
  },
  {
   "cell_type": "code",
   "execution_count": null,
   "metadata": {},
   "outputs": [],
   "source": []
  },
  {
   "cell_type": "code",
   "execution_count": null,
   "metadata": {},
   "outputs": [],
   "source": []
  }
 ],
 "metadata": {
  "kernelspec": {
   "display_name": "gpuruns",
   "language": "python",
   "name": "gpuruns"
  },
  "language_info": {
   "codemirror_mode": {
    "name": "ipython",
    "version": 3
   },
   "file_extension": ".py",
   "mimetype": "text/x-python",
   "name": "python",
   "nbconvert_exporter": "python",
   "pygments_lexer": "ipython3",
   "version": "3.7.9"
  }
 },
 "nbformat": 4,
 "nbformat_minor": 4
}
